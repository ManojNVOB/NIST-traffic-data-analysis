{
 "cells": [
  {
   "cell_type": "markdown",
   "metadata": {},
   "source": [
    "# detectors visualized on google maps"
   ]
  },
  {
   "cell_type": "code",
   "execution_count": 1,
   "metadata": {
    "collapsed": false
   },
   "outputs": [
    {
     "name": "stdout",
     "output_type": "stream",
     "text": [
      "Populating the interactive namespace from numpy and matplotlib\n"
     ]
    }
   ],
   "source": [
    "import gmplot\n",
    "import pandas as pd\n",
    "%pylab inline\n",
    "\n",
    "df = pd.read_csv('/home/datascience/labs/lab8/detector_lane_inventory.tsv', sep='\\t',\n",
    "                 lineterminator='\\n',na_values=['-'])\n",
    "\n",
    "latitudes = [item for item in df['latitude']]\n",
    "longitudes = [item for item in df['longitude']]\n",
    "\n",
    "gmap = gmplot.GoogleMapPlotter(latitudes[0], longitudes[0], 9)\n",
    "gmap.scatter(latitudes, longitudes, '#FF0000', size=300, marker=True)\n",
    "gmap.draw(\"mymap.html\")"
   ]
  }
 ],
 "metadata": {
  "kernelspec": {
   "display_name": "Python 2",
   "language": "python",
   "name": "python2"
  },
  "language_info": {
   "codemirror_mode": {
    "name": "ipython",
    "version": 2
   },
   "file_extension": ".py",
   "mimetype": "text/x-python",
   "name": "python",
   "nbconvert_exporter": "python",
   "pygments_lexer": "ipython2",
   "version": "2.7.6"
  }
 },
 "nbformat": 4,
 "nbformat_minor": 1
}
